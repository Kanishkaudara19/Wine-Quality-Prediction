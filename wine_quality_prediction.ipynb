{
 "cells": [
  {
   "cell_type": "markdown",
   "id": "15d6ab44",
   "metadata": {},
   "source": [
    "# **Wine Quality Prediction**\n",
    "This notebook explores multiple regression models to predict the quality of wine based on various chemical properties. We will train models, evaluate them, and save the best one for future use."
   ]
  },
  {
   "cell_type": "markdown",
   "id": "b3c6cb2e",
   "metadata": {},
   "source": [
    "## Importing Required Libraries"
   ]
  },
  {
   "cell_type": "code",
   "execution_count": 5,
   "id": "61663741",
   "metadata": {},
   "outputs": [],
   "source": [
    "\n",
    "import pandas as pd\n",
    "import numpy as np\n",
    "from sklearn.model_selection import train_test_split\n",
    "from sklearn.preprocessing import StandardScaler\n",
    "from sklearn.linear_model import LinearRegression, Ridge\n",
    "from sklearn.ensemble import RandomForestRegressor, GradientBoostingRegressor\n",
    "from sklearn.metrics import mean_squared_error, r2_score\n",
    "import pickle\n",
    "import os\n"
   ]
  },
  {
   "cell_type": "markdown",
   "id": "bd9d1a14",
   "metadata": {},
   "source": [
    "## Creating a Directory for Saved Models\n",
    "We ensure that a directory exists to store our trained models and the scaler."
   ]
  },
  {
   "cell_type": "code",
   "execution_count": 6,
   "id": "2d12dd74",
   "metadata": {},
   "outputs": [],
   "source": [
    "\n",
    "os.makedirs('models', exist_ok=True)\n"
   ]
  },
  {
   "cell_type": "markdown",
   "id": "eac61659",
   "metadata": {},
   "source": [
    "## Loading and Exploring the Dataset\n",
    "We load the dataset and display basic information such as shape, column names, summary statistics, and missing values to understand the data."
   ]
  },
  {
   "cell_type": "code",
   "execution_count": 7,
   "id": "eab275b3",
   "metadata": {},
   "outputs": [
    {
     "name": "stdout",
     "output_type": "stream",
     "text": [
      "Loading dataset...\n",
      "\n",
      "Dataset Information:\n",
      "Shape: (15000, 13)\n",
      "\n",
      "Columns: ['id', 'fixed acidity', 'volatile acidity', 'citric acid', 'residual sugar', 'chlorides', 'free sulfur dioxide', 'total sulfur dioxide', 'density', 'pH', 'sulphates', 'alcohol', 'quality']\n",
      "\n",
      "Summary Statistics:\n",
      "                 id  fixed acidity  volatile acidity   citric acid  \\\n",
      "count  15000.000000   15000.000000      15000.000000  15000.000000   \n",
      "mean    7499.500000       8.150753          0.504877      0.232211   \n",
      "std     4330.271354       1.420983          0.135287      0.176862   \n",
      "min        0.000000       4.000000          0.180000      0.000000   \n",
      "25%     3749.750000       7.200000          0.400000      0.050000   \n",
      "50%     7499.500000       7.800000          0.500000      0.240000   \n",
      "75%    11249.250000       8.900000          0.600000      0.380000   \n",
      "max    14999.000000      37.000000          1.340000      0.760000   \n",
      "\n",
      "       residual sugar     chlorides  free sulfur dioxide  \\\n",
      "count    15000.000000  15000.000000         15000.000000   \n",
      "mean         2.199445      0.078960            13.227133   \n",
      "std          0.533989      0.015611             7.899479   \n",
      "min          1.100000      0.000000             1.000000   \n",
      "25%          1.900000      0.073000             6.000000   \n",
      "50%          2.100000      0.078000            12.000000   \n",
      "75%          2.400000      0.084000            17.000000   \n",
      "max         11.700000      0.415000            55.000000   \n",
      "\n",
      "       total sulfur dioxide       density            pH     sulphates  \\\n",
      "count          15000.000000  15000.000000  15000.000000  15000.000000   \n",
      "mean              37.122767      0.996915      3.322869      0.619162   \n",
      "std               23.806699      0.001392      0.115947      0.106109   \n",
      "min                5.000000      0.990640      2.860000      0.390000   \n",
      "25%               19.000000      0.995900      3.240000      0.550000   \n",
      "50%               31.000000      0.996800      3.320000      0.600000   \n",
      "75%               48.000000      0.997800      3.390000      0.670000   \n",
      "max              289.000000      1.003690      4.010000      1.610000   \n",
      "\n",
      "            alcohol       quality  \n",
      "count  15000.000000  15000.000000  \n",
      "mean      10.186511      5.660533  \n",
      "std        0.900831      0.808541  \n",
      "min        8.100000      3.000000  \n",
      "25%        9.500000      5.000000  \n",
      "50%        9.900000      6.000000  \n",
      "75%       10.800000      6.000000  \n",
      "max       14.000000      8.000000  \n",
      "\n",
      "Missing Values:\n",
      "id                      0\n",
      "fixed acidity           0\n",
      "volatile acidity        0\n",
      "citric acid             0\n",
      "residual sugar          0\n",
      "chlorides               0\n",
      "free sulfur dioxide     0\n",
      "total sulfur dioxide    0\n",
      "density                 0\n",
      "pH                      0\n",
      "sulphates               0\n",
      "alcohol                 0\n",
      "quality                 0\n",
      "dtype: int64\n"
     ]
    }
   ],
   "source": [
    "\n",
    "# Load the wine quality dataset\n",
    "print(\"Loading dataset...\")\n",
    "data = pd.read_csv('data/train.csv')\n",
    "\n",
    "# Display basic information\n",
    "print(\"\\nDataset Information:\")\n",
    "print(f\"Shape: {data.shape}\")\n",
    "print(\"\\nColumns:\", data.columns.tolist())\n",
    "print(\"\\nSummary Statistics:\")\n",
    "print(data.describe())\n",
    "\n",
    "# Check for missing values\n",
    "print(\"\\nMissing Values:\")\n",
    "print(data.isnull().sum())\n"
   ]
  },
  {
   "cell_type": "markdown",
   "id": "691e4117",
   "metadata": {},
   "source": [
    "## Splitting Features and Target Variable\n",
    "We separate the features (X) from the target variable (`quality`) and split the data into training and test sets."
   ]
  },
  {
   "cell_type": "code",
   "execution_count": 8,
   "id": "bb76aee4",
   "metadata": {},
   "outputs": [],
   "source": [
    "\n",
    "X = data.drop(columns=['id', 'quality'])\n",
    "y = data['quality']\n",
    "\n",
    "# Split the data\n",
    "X_train, X_test, y_train, y_test = train_test_split(X, y, test_size=0.2, random_state=42)\n"
   ]
  },
  {
   "cell_type": "markdown",
   "id": "93a09229",
   "metadata": {},
   "source": [
    "## Standardizing the Features\n",
    "We scale the feature values using `StandardScaler` to improve the performance of models that are sensitive to feature magnitudes."
   ]
  },
  {
   "cell_type": "code",
   "execution_count": 9,
   "id": "9cc4d27e",
   "metadata": {},
   "outputs": [],
   "source": [
    "\n",
    "scaler = StandardScaler()\n",
    "X_train_scaled = scaler.fit_transform(X_train)\n",
    "X_test_scaled = scaler.transform(X_test)\n",
    "\n",
    "# Save the scaler for future use\n",
    "with open('models/scaler.pkl', 'wb') as f:\n",
    "    pickle.dump(scaler, f)\n"
   ]
  },
  {
   "cell_type": "markdown",
   "id": "30c75fce",
   "metadata": {},
   "source": [
    "## Training Regression Models\n",
    "We train multiple regression models to predict wine quality and evaluate their performance using Mean Squared Error (MSE) and R² score."
   ]
  },
  {
   "cell_type": "markdown",
   "id": "628f0532",
   "metadata": {},
   "source": [
    "### Define Models"
   ]
  },
  {
   "cell_type": "code",
   "execution_count": 10,
   "id": "3fdca288",
   "metadata": {},
   "outputs": [],
   "source": [
    "\n",
    "models = {\n",
    "    'Linear Regression': LinearRegression(),\n",
    "    'Ridge Regression': Ridge(alpha=1.0),\n",
    "    'Random Forest': RandomForestRegressor(n_estimators=100, random_state=42),\n",
    "    'Gradient Boosting': GradientBoostingRegressor(n_estimators=100, random_state=42)\n",
    "}\n"
   ]
  },
  {
   "cell_type": "markdown",
   "id": "2530429d",
   "metadata": {},
   "source": [
    "### Train and Evaluate Models"
   ]
  },
  {
   "cell_type": "code",
   "execution_count": 11,
   "id": "0b7fd484",
   "metadata": {},
   "outputs": [
    {
     "name": "stdout",
     "output_type": "stream",
     "text": [
      "Training Linear Regression...\n",
      "Training Ridge Regression...\n",
      "Training Random Forest...\n",
      "Training Gradient Boosting...\n",
      "\n",
      "Model Performance Comparison:\n",
      "Linear Regression: MSE = 0.5350, R2 = 0.1696\n",
      "Ridge Regression: MSE = 0.5350, R2 = 0.1696\n",
      "Random Forest: MSE = 0.5380, R2 = 0.1649\n",
      "Gradient Boosting: MSE = 0.5286, R2 = 0.1795\n",
      "\n",
      "Best Model: Gradient Boosting (MSE = 0.5286, R2 = 0.1795)\n"
     ]
    }
   ],
   "source": [
    "\n",
    "model_results = {}\n",
    "trained_models = {}\n",
    "for name, model in models.items():\n",
    "    print(f'Training {name}...')\n",
    "    model.fit(X_train_scaled, y_train)\n",
    "    y_pred = model.predict(X_test_scaled)\n",
    "    mse = mean_squared_error(y_test, y_pred)\n",
    "    r2 = r2_score(y_test, y_pred)\n",
    "    model_results[name] = {'MSE': mse, 'R2': r2}\n",
    "    trained_models[name] = model\n",
    "\n",
    "    with open(f'models/{name.lower().replace(' ', '_')}.pkl', 'wb') as f:\n",
    "        pickle.dump(model, f)\n",
    "\n",
    "print('\\nModel Performance Comparison:')\n",
    "for model, metrics in model_results.items():\n",
    "    print(f'{model}: MSE = {metrics['MSE']:.4f}, R2 = {metrics['R2']:.4f}')\n",
    "\n",
    "best_model = min(model_results.items(), key=lambda x: x[1]['MSE'])\n",
    "print(f'\\nBest Model: {best_model[0]} (MSE = {best_model[1]['MSE']:.4f}, R2 = {best_model[1]['R2']:.4f})')\n"
   ]
  },
  {
   "cell_type": "markdown",
   "id": "8f6d2bab",
   "metadata": {},
   "source": [
    "## Loading Test Data & Making Predictions\n",
    "We load the test dataset from `test.csv` and make the predictions. All the predictions will be written to `submission.csv` file."
   ]
  },
  {
   "cell_type": "code",
   "execution_count": 12,
   "id": "7cd9348c",
   "metadata": {},
   "outputs": [
    {
     "name": "stdout",
     "output_type": "stream",
     "text": [
      "\n",
      "Submission file generated successfully.\n"
     ]
    }
   ],
   "source": [
    "data_eval = pd.read_csv('data/test.csv')\n",
    "X_eval = data_eval.drop(columns=['id'])\n",
    "X_eval_scaled = scaler.transform(X_eval)\n",
    "\n",
    "predictions_df = pd.DataFrame({'id': data_eval['id']})\n",
    "\n",
    "for model_name, model in trained_models.items():\n",
    "    predictions_df[model_name] = model.predict(X_eval_scaled)\n",
    "\n",
    "predictions_df['quality'] = predictions_df.iloc[:, 1:].mean(axis=1).round(3)\n",
    "predictions_df[['id', 'quality']].to_csv('submission.csv', index=False)\n",
    "print('\\nSubmission file generated successfully.')"
   ]
  }
 ],
 "metadata": {
  "kernelspec": {
   "display_name": "Python 3",
   "language": "python",
   "name": "python3"
  },
  "language_info": {
   "codemirror_mode": {
    "name": "ipython",
    "version": 3
   },
   "file_extension": ".py",
   "mimetype": "text/x-python",
   "name": "python",
   "nbconvert_exporter": "python",
   "pygments_lexer": "ipython3",
   "version": "3.13.2"
  }
 },
 "nbformat": 4,
 "nbformat_minor": 5
}
